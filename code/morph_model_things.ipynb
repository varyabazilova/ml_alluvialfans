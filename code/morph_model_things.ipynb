{
 "cells": [
  {
   "cell_type": "code",
   "execution_count": 1,
   "id": "89a9d136-82af-432d-83e6-19530a4d1121",
   "metadata": {},
   "outputs": [],
   "source": [
    "import pandas as pd\n",
    "import os\n",
    "import numpy as np\n",
    "np.set_printoptions(precision=4)\n",
    "\n",
    "import catboost\n",
    "from catboost import *\n",
    "from catboost import CatBoostClassifier, Pool, metrics, cv\n",
    "from catboost.utils import get_roc_curve, get_confusion_matrix\n",
    "\n",
    "import matplotlib.pyplot as plt\n",
    "import matplotlib.colors as colors\n",
    "\n",
    "# other things: from sklearn.model_selection import StratifiedShuffleSplit \n",
    "\n",
    "from sklearn.model_selection import train_test_split, GridSearchCV, StratifiedShuffleSplit, ShuffleSplit\n",
    "from sklearn.metrics import accuracy_score, roc_curve, auc, roc_auc_score, recall_score, f1_score, confusion_matrix, precision_score\n",
    "from hyperopt import fmin, hp, tpe, Trials, space_eval, STATUS_OK\n",
    "\n",
    "import shap \n",
    "\n",
    "import functions \n",
    "\n",
    "# plt.rcParams.update({'font.size': 20})\n"
   ]
  },
  {
   "cell_type": "code",
   "execution_count": 2,
   "id": "f8bd289d-3994-44e9-ae06-80f6d5256dc7",
   "metadata": {},
   "outputs": [],
   "source": [
    "initial_auc = 0.8695469738994381\n",
    "new_climate_auc = 0.9045051521687035\n",
    "\n",
    "params = {\n",
    "    'loss_function': 'CrossEntropy', \n",
    "    'iterations': 1000,\n",
    "    'depth': 4,\n",
    "    'learning_rate': 0.1,\n",
    "    'eval_metric': 'AUC:hints=skip_train~false',\n",
    "    # 'eval_metric': metrics.AUC(),\n",
    "    'custom_metric' : ['Logloss', 'Accuracy', 'AUC:hints=skip_train~false'],\n",
    "    'random_seed': 42,\n",
    "    'logging_level': 'Silent',\n",
    "}\n",
    "\n",
    "# ------ best model ------\n",
    "\n",
    "best_model_params = params.copy()\n",
    "best_model_params.update({\n",
    "    'use_best_model': True\n",
    "})\n"
   ]
  },
  {
   "cell_type": "code",
   "execution_count": 3,
   "id": "01072f67-bd3e-42f6-a6d8-619756473f0a",
   "metadata": {},
   "outputs": [],
   "source": [
    "df = pd.read_csv('/Users/varyabazilova/Desktop/alluvial_fans/final/!!_050723_cathments_data.csv', index_col = 0)\n",
    "df = df.drop(['x_wgs', 'y_wgs', 'id'], axis = 1)\n",
    "df = df[df['area_m2'] > 1000]\n",
    "\n",
    "\n",
    "morphometry = ['elv_median', 'elv_range', 'area_m2', 'perim_m', 'sl_median', \n",
    "               'target', 'M', 'circularity_ratio', 'compactness']\n",
    "\n",
    "climate = ['elv_median', 'elv_range', 'area_m2', 'perim_m', 'sl_median',\n",
    "           'max_annualsum_tp', 'n_rainydays_median', 'precip95', 'cross_zero',\n",
    "           'frost_days', 'tp', 'snow', 'rain', 'veg_frac', 'target', 'M',\n",
    "           'circularity_ratio', 'compactness', 'mean_annual_t2m_downsc',\n",
    "           'cont_permafrost', 'glacier']\n",
    "\n",
    "morphometry = df[morphometry]\n",
    "climate = df[climate]\n"
   ]
  },
  {
   "cell_type": "code",
   "execution_count": 4,
   "id": "910a327d-f89c-4d6a-9e06-fc38314db79d",
   "metadata": {},
   "outputs": [],
   "source": [
    "\n",
    "y = morphometry.target\n",
    "X = morphometry.drop(columns=['target'])\n",
    "\n",
    "# # # what values are categorical: \n",
    "# X['glacier'] = X['glacier'].astype(str) \n",
    "# X['cont_permafrost'] = X['cont_permafrost'].astype(str)\n",
    "\n",
    "cat_features = list([])\n",
    "\n",
    "seed = 42\n",
    "test_size = 0.3"
   ]
  },
  {
   "cell_type": "markdown",
   "id": "0deebf58-3a2a-4136-a52a-9944f51a57eb",
   "metadata": {},
   "source": [
    "# morph info, stratified sampling "
   ]
  },
  {
   "cell_type": "code",
   "execution_count": 5,
   "id": "0f0b3f54-c263-4b0a-b97f-000d7be1929d",
   "metadata": {},
   "outputs": [],
   "source": [
    "model, auc10, accuracy10, confusions10 = functions.strat_split_data_make_model_save_metrics(X=X, y=y, cat_features=cat_features, \n",
    "                                         seed = 42, n_splits=10, model_params=best_model_params)\n",
    "\n",
    "modelM1, aucM1, accuracyM1, confusionM1 = functions.strat_split_data_make_model_save_metrics(X=X, y=y, cat_features=cat_features, \n",
    "                                         seed = 42, n_splits=1, model_params=best_model_params)\n",
    "\n"
   ]
  },
  {
   "cell_type": "code",
   "execution_count": 6,
   "id": "1b327d3d-3145-4024-b9ca-8c6d1a8b7940",
   "metadata": {},
   "outputs": [
    {
     "name": "stdout",
     "output_type": "stream",
     "text": [
      "auc1 morph dataset: [0.881]\n",
      "acuracy1 morph dataset: [0.816]\n"
     ]
    }
   ],
   "source": [
    "print('auc1 morph dataset:', np.round(aucM1, 3))\n",
    "print('acuracy1 morph dataset:', np.round(accuracyM1, 3))\n"
   ]
  },
  {
   "cell_type": "code",
   "execution_count": 6,
   "id": "8a5d5d25-65c8-4795-a967-3940ff3bbf4a",
   "metadata": {},
   "outputs": [
    {
     "data": {
      "text/plain": [
       "[array([[166,  53],\n",
       "        [ 46, 273]])]"
      ]
     },
     "execution_count": 6,
     "metadata": {},
     "output_type": "execute_result"
    }
   ],
   "source": [
    "confusionM1"
   ]
  },
  {
   "cell_type": "markdown",
   "id": "cfd861e1-437c-48c1-9901-73d2dd93adf5",
   "metadata": {},
   "source": [
    "# morph info, regular sampling "
   ]
  },
  {
   "cell_type": "code",
   "execution_count": null,
   "id": "d8235393-14e8-4b6d-8045-8af745903aaa",
   "metadata": {},
   "outputs": [],
   "source": [
    "model, aucReg10, accuracyReg10 = functions.split_data_make_model_save_metrics(X=X, y=y, cat_features=cat_features, \n",
    "                                         seed = 42, n_splits=10, model_params=best_model_params)\n",
    "\n",
    "model, aucReg1, accuracyREG1 = functions.split_data_make_model_save_metrics(X=X, y=y, cat_features=cat_features, \n",
    "                                         seed = 42, n_splits=1, model_params=best_model_params)\n",
    "\n"
   ]
  },
  {
   "cell_type": "markdown",
   "id": "3e3064bf-1aaf-4f9f-ac99-a13d36c76de1",
   "metadata": {},
   "source": [
    "## plot everything together "
   ]
  },
  {
   "cell_type": "code",
   "execution_count": null,
   "id": "ad007606-a30c-43e3-b447-9a327bf413ce",
   "metadata": {},
   "outputs": [],
   "source": [
    "fig = plt.figure(figsize=(20, 7))\n",
    "mosaic = fig.subplot_mosaic('''\n",
    "                            ab\n",
    "                            ''')\n",
    "# stratified sampling\n",
    "mosaic['a'].bar(range(1, len(auc10) + 1), auc10, color='blue', alpha=0.7, label = 'StratifiedSplitShuffle split')\n",
    "mosaic['a'].bar(x = 12, height = aucM1, color = 'orange', label = 'M-model (ratio was preserved)')\n",
    "mosaic['a'].bar(x = 13, height = initial_auc, color = 'pink', label = 'M-model (ratio was not preserved)')\n",
    "# mosaic['a'].bar(x = 14, height = new_climate_auc, color = 'magenta', label = 'NEW model incl. climate data')\n",
    "mosaic['a'].bar(x = 14, height = new_climate_auc, color = plt.cm.PuOr(0.9), label = 'MC-model (ratio was preserved)')\n",
    "\n",
    "\n",
    "mosaic['a'].axhline(y=np.percentile(auc10, 95), color='green', linestyle = '--', label = '5/95 %')\n",
    "mosaic['a'].axhline(y=np.percentile(auc10, 5), color='green', linestyle = '--')\n",
    "mosaic['a'].axhline(y=np.mean(auc10), color = 'red', linestyle = '--', label = 'mean')\n",
    "\n",
    "\n",
    "\n",
    "# regular sampling\n",
    "mosaic['b'].bar(range(1, len(aucReg10) + 1), aucReg10, color='blue', alpha=0.7, label = 'splitshuffle split')\n",
    "# mosaic['b'].bar(x = 12, height = aucC1, color = 'orange', label = 'new model with ')\n",
    "mosaic['b'].bar(x = 13, height = initial_auc, color = 'pink', label = 'M-model (ratio was not preserved)')\n",
    "\n",
    "mosaic['b'].axhline(y=np.percentile(aucReg10, 95), color='green', linestyle = '--', label = '5/95 %')\n",
    "mosaic['b'].axhline(y=np.percentile(aucReg10, 5), color='green', linestyle = '--')\n",
    "mosaic['b'].axhline(y=np.mean(aucReg10), color = 'red', linestyle = '--', label = 'mean')\n",
    "\n",
    "\n",
    "# mosaic['a'].set_ylim(0.84,1) \n",
    "# mosaic['b'].set_ylim(0.84,1) \n",
    "# mosaic['a'].legend(fontsize=12)\n",
    "# mosaic['b'].legend(fontsize=12)\n",
    "\n",
    "\n",
    "# mosaic['a'].set_title('StratifiedShuffleSplit: the proportion of data points \\n of class 1/0 is preserved, when splitting the data', fontsize = 15)\n",
    "# mosaic['b'].set_title('ShuffleSplit: the data is split randomly', fontsize = 15)\n",
    "\n",
    "# mosaic['a'].set_xticks(range(1, len(aucReg10) + 5), fontsize = 15)\n",
    "# mosaic['b'].set_xticks(range(1, len(aucReg10) + 4), fontsize = 15)\n",
    "\n",
    "# mosaic['a'].set_ylabel('auc', fontsize = 15)\n",
    "# mosaic['b'].set_ylabel('auc', fontsize = 15)\n",
    "\n",
    "\n",
    "# mosaic['a'].set_xlabel('split number (1-10)', fontsize = 15)\n",
    "# mosaic['b'].set_xlabel('split number (1-10)', fontsize = 15)\n",
    "\n",
    "\n",
    "\n",
    "mosaic['a'].set_ylim(0.84, 1) \n",
    "mosaic['b'].set_ylim(0.84, 1) \n",
    "mosaic['a'].legend(fontsize=12)\n",
    "mosaic['b'].legend(fontsize=12)\n",
    "\n",
    "\n",
    "mosaic['a'].set_title('StratifiedShuffleSplit: the proportion of data points \\n of class 1/0 is preserved, when splitting the data', fontsize = 15)\n",
    "mosaic['b'].set_title('ShuffleSplit: the data is split randomly', fontsize = 15)\n",
    "\n",
    "mosaic['a'].set_xticks(range(1, len(aucReg10) + 1))#, fontsize = 20)\n",
    "mosaic['b'].set_xticks(range(1, len(aucReg10) + 1))#, fontsize = 20)\n",
    "mosaic['a'].set_xticklabels(range(1, len(aucReg10) + 1), fontsize=15)\n",
    "mosaic['b'].set_xticklabels(range(1, len(aucReg10) + 1), fontsize=15)\n",
    "\n",
    "\n",
    "mosaic['a'].set_ylabel('auc', fontsize = 15)\n",
    "mosaic['b'].set_ylabel('auc', fontsize = 15)\n",
    "\n",
    "\n",
    "mosaic['a'].set_xlabel('split number (1-10)', fontsize = 15)\n",
    "mosaic['b'].set_xlabel('split number (1-10)', fontsize = 15)\n",
    "\n",
    "\n",
    "\n",
    "mosaic['a'].set_ylabel('auc', fontsize = 20)\n",
    "mosaic['b'].set_ylabel('auc', fontsize = 20)\n",
    "\n",
    "\n",
    "mosaic['a'].set_xlabel('split number (1-10)', fontsize = 15)\n",
    "mosaic['b'].set_xlabel('split number (1-10)', fontsize = 15)\n",
    "\n",
    "mosaic['a'].set_yticklabels(labels=np.round(np.arange(0.84, 1.02, 0.02), 2), fontsize=15)\n",
    "mosaic['b'].set_yticklabels(labels=np.round(np.arange(0.84, 1.02, 0.02), 2), fontsize=15)\n",
    "\n",
    "\n",
    "\n",
    "# plt.savefig('out/removed_points/StratifiedShuffleSplit_together_with_regular_M_model.png', dpi = 300, bbox_inches = 'tight')\n"
   ]
  },
  {
   "cell_type": "code",
   "execution_count": null,
   "id": "d70cc914-1fc9-44c2-aaf0-03dc430cfcd2",
   "metadata": {},
   "outputs": [],
   "source": [
    "fig = plt.figure(figsize=(20, 7))\n",
    "mosaic = fig.subplot_mosaic('''\n",
    "                            ab\n",
    "                            ''')\n",
    "# stratified sampling\n",
    "mosaic['a'].bar(range(1, len(auc10) + 1), auc10, color='blue', alpha=0.7, label = 'StratifiedSplitShuffle split')\n",
    "# mosaic['a'].bar(x = 12, height = aucC1, color = 'orange', label = 'new model (ratio was preserved)')\n",
    "mosaic['a'].bar(x = 13, height = initial_auc, color = 'pink', label = 'initial (old) model (ratio was not preserved)')\n",
    "\n",
    "mosaic['a'].axhline(y=np.percentile(auc10, 95), color='green', linestyle = '--', label = '5/95 %')\n",
    "mosaic['a'].axhline(y=np.percentile(auc10, 5), color='green', linestyle = '--')\n",
    "mosaic['a'].axhline(y=np.mean(auc10), color = 'red', linestyle = '--', label = 'mean')\n",
    "\n",
    "\n",
    "\n",
    "# regular sampling\n",
    "mosaic['b'].bar(range(1, len(aucReg10) + 1), aucReg10, color='blue', alpha=0.7, label = 'splitshuffle split')\n",
    "# mosaic['b'].bar(x = 12, height = aucC1, color = 'orange', label = 'new model with ')\n",
    "mosaic['b'].bar(x = 13, height = initial_auc, color = 'pink', label = 'initial (old) model (ratio was not preserved)')\n",
    "\n",
    "mosaic['b'].axhline(y=np.percentile(aucReg10, 95), color='green', linestyle = '--', label = '5/95 %')\n",
    "mosaic['b'].axhline(y=np.percentile(aucReg10, 5), color='green', linestyle = '--')\n",
    "mosaic['b'].axhline(y=np.mean(aucReg10), color = 'red', linestyle = '--', label = 'mean')\n",
    "\n",
    "\n",
    "mosaic['a'].set_ylim(0.85,1) \n",
    "mosaic['b'].set_ylim(0.85,1) \n",
    "mosaic['a'].legend(fontsize=12)\n",
    "mosaic['b'].legend(fontsize=12)\n",
    "\n",
    "\n",
    "mosaic['a'].set_title('StratifiedShuffleSplit: the proportion of data points \\n of class 1/0 is preserved, when splitting the data', fontsize = 15)\n",
    "mosaic['b'].set_title('ShuffleSplit: the data is split randomly', fontsize = 15)\n",
    "\n",
    "mosaic['a'].set_xticks(range(1, len(aucReg10) + 1), fontsize = 20)\n",
    "mosaic['b'].set_xticks(range(1, len(aucReg10) + 1), fontsize = 15)\n",
    "\n",
    "mosaic['a'].set_ylabel('auc', fontsize = 15)\n",
    "mosaic['b'].set_ylabel('auc', fontsize = 15)\n",
    "\n",
    "\n",
    "mosaic['a'].set_xlabel('split number (1-10)', fontsize = 15)\n",
    "mosaic['b'].set_xlabel('split number (1-10)', fontsize = 15)\n",
    "\n",
    "# plt.show()\n",
    "\n",
    "# plt.savefig('out/removed_points/StratifiedShuffleSplit_together_with_regular_only_morph.png', dpi = 300, bbox_inches = 'tight')"
   ]
  },
  {
   "cell_type": "code",
   "execution_count": null,
   "id": "5d816bea-7a70-4eab-b074-f4817d6d91b4",
   "metadata": {},
   "outputs": [],
   "source": [
    "aucM1"
   ]
  },
  {
   "cell_type": "markdown",
   "id": "f8217b35-be48-43e5-867f-c657d2913f8d",
   "metadata": {},
   "source": [
    "# save new predictions"
   ]
  },
  {
   "cell_type": "code",
   "execution_count": null,
   "id": "1320cadb-5c69-4c2d-97f8-38f70c4e1caa",
   "metadata": {},
   "outputs": [],
   "source": [
    "# make predictions \n",
    "model = modelM1[0]\n",
    "\n",
    "y_result = model.predict(X)\n",
    "probs = model.predict_proba(X)\n",
    "probs = probs[:,1]\n",
    "\n",
    "\n",
    "# calculate confusions \n",
    "\n",
    "df['y_result'] = y_result\n",
    "df['y_result_probs'] = probs\n",
    "\n",
    "df['result_True'] = df.target + df.y_result # TP = 2, TN = 0\n",
    "\n",
    "\n",
    "# this is the column to see the \"confusuon\" situations\n",
    "# TP = 2, TN = 0\n",
    "# FP = -1, FN = 1\n",
    "df['diff_res'] = np.where(df.result_True != 1, df.result_True, (df.target - df.y_result)) \n",
    "\n",
    "# Then, create a new column 'confusion' based on the condition 'diff_res' == 1\n",
    "df['confusion'] = np.where(df['diff_res'] == 1, 'FN',  # False Negative\n",
    "                           np.where(df['diff_res'] == 2, 'TP',  # True Positive\n",
    "                                    np.where(df['diff_res'] == -1, 'FP',  # False Positive\n",
    "                                             np.where(df['diff_res'] == 0, 'TN', 'Unknown'))))  # True Negative and Unknown\n",
    "\n",
    "# save predictions\n",
    "# df.to_csv('out/removed_points/20240711_new_model_predictions_output_MORPH.csv')"
   ]
  },
  {
   "cell_type": "code",
   "execution_count": null,
   "id": "4bffb1ed-6e4b-4eb9-ac6e-406824e49c84",
   "metadata": {},
   "outputs": [],
   "source": [
    "aucM1"
   ]
  },
  {
   "cell_type": "code",
   "execution_count": null,
   "id": "6b4c2342-7f04-412a-aedd-e6bd90272e28",
   "metadata": {},
   "outputs": [],
   "source": [
    "df.confusion.value_counts()"
   ]
  },
  {
   "cell_type": "code",
   "execution_count": null,
   "id": "b5c103d0-9bfa-42f5-9a32-7e756d24c3c8",
   "metadata": {},
   "outputs": [],
   "source": [
    "\n",
    "correct = 931 + 591\n",
    "wrong = 147 + 137\n",
    "\n",
    "total = len(df)\n",
    "\n",
    "percent_correct = (correct * 100)/total \n",
    "percent_wrong = (wrong * 100) / total\n",
    "\n",
    "print('precent of wrong classifications:',percent_wrong)"
   ]
  },
  {
   "cell_type": "markdown",
   "id": "ea2e6d0d-7878-48e3-bc98-621d6ab466b7",
   "metadata": {},
   "source": [
    "# model meaning etc "
   ]
  },
  {
   "cell_type": "code",
   "execution_count": null,
   "id": "68e784b4-3737-45d5-ba67-d106fc7700d0",
   "metadata": {},
   "outputs": [],
   "source": [
    "explainer = shap.TreeExplainer(model)\n",
    "\n",
    "shap_values = explainer.shap_values(X)\n",
    "shap.summary_plot(shap_values, X, max_display=20,show=False)\n"
   ]
  },
  {
   "cell_type": "code",
   "execution_count": null,
   "id": "cd3c34d0-6259-446a-b015-f88dac048604",
   "metadata": {},
   "outputs": [],
   "source": [
    "def truncate_colormap(cmap, minval=0.0, maxval=1.0, n=100):\n",
    "    new_cmap = colors.LinearSegmentedColormap.from_list(\n",
    "        'trunc({n},{a:.2f},{b:.2f})'.format(n=cmap.name, a=minval, b=maxval),\n",
    "        cmap(np.linspace(minval, maxval, n)))\n",
    "    return new_cmap\n",
    "\n",
    "cmap = plt.get_cmap('bone_r')\n",
    "cut_cmap = truncate_colormap(cmap, 0.1, 1)\n",
    "\n",
    "features = ['median slope', 'perimeter', 'area', 'relief', 'median elevation', \n",
    "            'Melton ratio', 'circularity ratio', 'compactness']\n",
    "\n",
    "orange = plt.cm.PuOr(0.125)\n",
    "my_colors = [orange, orange, orange, orange, orange,\n",
    "             orange, orange, orange]\n",
    "\n",
    "\n",
    "# shap.summary_plot(shap_values, X, show=False, cmap=cut_cmap, plot_size=(10, 7))\n",
    "\n",
    "shap.summary_plot(shap_values, X, show=False, cmap=cut_cmap,plot_size=(10, 7))\n",
    "\n",
    "for ticklabel, tickcolor in zip(plt.gca().get_yticklabels(), my_colors[::-1]):\n",
    "    ticklabel.set_color(tickcolor)\n",
    "\n",
    "plt.yticks(range(len(features)), features[::-1], fontsize=15)\n",
    "# plt.yticks(range(len(features)), features, fontsize=15) # this is upside down\n",
    "plt.xticks(fontsize=15)\n",
    "\n",
    "# plt.show()\n",
    "# plt.savefig('out/removed_points/shap_values_only_morph.png', dpi = 300, bbox_inches = 'tight')"
   ]
  },
  {
   "cell_type": "markdown",
   "id": "27143f03-ca39-4019-b2b2-099dbe90d6ac",
   "metadata": {},
   "source": [
    "# roc curve"
   ]
  },
  {
   "cell_type": "code",
   "execution_count": null,
   "id": "49fc72b1-8510-4e9b-8a3e-a9543b23f906",
   "metadata": {},
   "outputs": [],
   "source": []
  },
  {
   "cell_type": "code",
   "execution_count": null,
   "id": "514ebf31-fc02-4031-a310-1fbdc7b5b61e",
   "metadata": {},
   "outputs": [],
   "source": []
  }
 ],
 "metadata": {
  "kernelspec": {
   "display_name": "Python [conda env:project1] *",
   "language": "python",
   "name": "conda-env-project1-py"
  },
  "language_info": {
   "codemirror_mode": {
    "name": "ipython",
    "version": 3
   },
   "file_extension": ".py",
   "mimetype": "text/x-python",
   "name": "python",
   "nbconvert_exporter": "python",
   "pygments_lexer": "ipython3",
   "version": "3.7.11"
  }
 },
 "nbformat": 4,
 "nbformat_minor": 5
}
